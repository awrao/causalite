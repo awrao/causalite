{
 "cells": [
  {
   "cell_type": "markdown",
   "id": "3cb87a66-cf64-4620-b5ec-7444b425ecdb",
   "metadata": {},
   "source": [
    "Copyright 2024 Anil Rao\n",
    "\n",
    "Licensed under the Apache License, Version 2.0 (the \"License\");\n",
    "you may not use this file except in compliance with the License.\n",
    "You may obtain a copy of the License at\n",
    "\n",
    "    http://www.apache.org/licenses/LICENSE-2.0\n",
    "\n",
    "Unless required by applicable law or agreed to in writing, software\n",
    "distributed under the License is distributed on an \"AS IS\" BASIS,\n",
    "WITHOUT WARRANTIES OR CONDITIONS OF ANY KIND, either express or implied.\n",
    "See the License for the specific language governing permissions and\n",
    "limitations under the License."
   ]
  },
  {
   "cell_type": "markdown",
   "id": "3afd1d5c",
   "metadata": {},
   "source": [
    "# Getting Started"
   ]
  },
  {
   "cell_type": "markdown",
   "id": "f19433ad",
   "metadata": {},
   "source": [
    "## Basic Functionality"
   ]
  },
  {
   "cell_type": "markdown",
   "id": "24ed7cc3",
   "metadata": {},
   "source": [
    "We firstly do some imports:"
   ]
  },
  {
   "cell_type": "code",
   "execution_count": 1,
   "id": "f8c7e0bb",
   "metadata": {},
   "outputs": [],
   "source": [
    "from causalite import node_models as nm\n",
    "from causalite import causal_models as cm\n",
    "from scipy import stats\n",
    "import pandas as pd\n",
    "import numpy as np"
   ]
  },
  {
   "cell_type": "markdown",
   "id": "a0258dfb",
   "metadata": {},
   "source": [
    "### Creating a Structural Causal Model"
   ]
  },
  {
   "cell_type": "markdown",
   "id": "867c653e",
   "metadata": {},
   "source": [
    "We will now define a Structural Causal Model (SCM) consisting of 3 variables/nodes A, X and Y with causal mechanisms specified by models f_A, f_X and f_Y respectively. (We use the words 'variable' and 'node' interchangeably.) To do this, we firstly use NodeAdditiveNoiseModel to specify the causal mechanism for each node:\n"
   ]
  },
  {
   "cell_type": "code",
   "execution_count": 2,
   "id": "37dfdca3",
   "metadata": {},
   "outputs": [],
   "source": [
    "f_A = nm.NodeAdditiveNoiseModel('A')\n",
    "f_X = nm.NodeAdditiveNoiseModel('X', parent_polys={'A': [1., 0., -3.]})\n",
    "f_Y = nm.NodeAdditiveNoiseModel('Y', parent_polys={'X': [-0.5, 0., 1.2], 'A': [1.4], 'XA': [3., -1.]})"
   ]
  },
  {
   "cell_type": "markdown",
   "id": "bab0c538",
   "metadata": {},
   "source": [
    "Here, f_A is the model for the variable A which is a root node (has no parents) in the corresponding Directed Acyclic Graph, and so is distributed according to the exogenous noise U_A:"
   ]
  },
  {
   "cell_type": "code",
   "execution_count": 3,
   "id": "ba6288af",
   "metadata": {},
   "outputs": [
    {
     "name": "stdout",
     "output_type": "stream",
     "text": [
      "A <-  U_A\n"
     ]
    }
   ],
   "source": [
    "print(f_A)"
   ]
  },
  {
   "cell_type": "markdown",
   "id": "1c388c65",
   "metadata": {},
   "source": [
    "As f_A models a root node, it is created by specifying the modelled variable, A, and the exogenous noise U_A. By default, this exogenous noise is normally distributed with mean 0 and standard deviation 1, but we can specify alternative distributions if we wish. For example, \n",
    "\n"
   ]
  },
  {
   "cell_type": "code",
   "execution_count": 4,
   "id": "32cfa760",
   "metadata": {},
   "outputs": [],
   "source": [
    "f_A_mean_10_exogenous = nm.NodeAdditiveNoiseModel('A', loc=10.)"
   ]
  },
  {
   "cell_type": "markdown",
   "id": "4327b0c9",
   "metadata": {},
   "source": [
    "specifies that the exogenous noise is normally distributed with mean 10 and standard deviation 1. Alternatively,"
   ]
  },
  {
   "cell_type": "code",
   "execution_count": 5,
   "id": "1b441915",
   "metadata": {},
   "outputs": [],
   "source": [
    "f_A_uniform_exogenous = nm.NodeAdditiveNoiseModel('A', u_draw_random_variates=stats.uniform.rvs, loc=2, scale=10)"
   ]
  },
  {
   "cell_type": "markdown",
   "id": "3b918a45",
   "metadata": {},
   "source": [
    "specifies it is uniformly distributed on \\[2, 12\\]. We can also specify discrete distributions for the exogenous noise if we choose."
   ]
  },
  {
   "cell_type": "markdown",
   "id": "75928ec8",
   "metadata": {},
   "source": [
    "We create models for non root nodes such as X by additionally providing a 'parent_polys' dictionary which specifies the fixed part of their causal relationship with their parent nodes. Each key in 'parent_polys' is either the string name of a parent node or the concatenation of 2 such names. The corresponding value is a list where the ith entry is the coefficient of the i+1th power in a polynomial function of the key. Formally this is:"
   ]
  },
  {
   "cell_type": "markdown",
   "id": "7cb59599",
   "metadata": {},
   "source": [
    "$q(k) = \\sum_{i=0} v[i] * k^{i+1}$"
   ]
  },
  {
   "cell_type": "markdown",
   "id": "08d99024",
   "metadata": {},
   "source": [
    "where q is the polynomial, k is the key and v is the value. For node models of type NodeAdditiveNoiseModel, the resulting model is the sum of each of the polynomials and the exogenous noise. Hence the model for causal mechanism f_X is:"
   ]
  },
  {
   "cell_type": "code",
   "execution_count": 6,
   "id": "d066536c",
   "metadata": {
    "scrolled": true
   },
   "outputs": [
    {
     "name": "stdout",
     "output_type": "stream",
     "text": [
      "X <-  1.0A - 3.0A^3 + U_X\n"
     ]
    }
   ],
   "source": [
    "print(f_X)"
   ]
  },
  {
   "cell_type": "markdown",
   "id": "88b42b8b",
   "metadata": {},
   "source": [
    "because its 'parent_polys' dictionary contains 1 item with key 'A' and value \\[1.0, 0.0, -3.\\]"
   ]
  },
  {
   "cell_type": "markdown",
   "id": "ff178229",
   "metadata": {},
   "source": [
    "For f_Y, we include more dictionary items to incorporate polynomial functions of multiple parent nodes into the model:"
   ]
  },
  {
   "cell_type": "code",
   "execution_count": 7,
   "id": "29f62930",
   "metadata": {},
   "outputs": [
    {
     "name": "stdout",
     "output_type": "stream",
     "text": [
      "Y <-  - 0.5X + 1.2X^3 + 1.4A + 3.0XA - 1.0(XA)^2 + U_Y\n"
     ]
    }
   ],
   "source": [
    "print(f_Y)"
   ]
  },
  {
   "cell_type": "markdown",
   "id": "efcccd97",
   "metadata": {},
   "source": [
    "In this case, 'parent_polys' contains keys 'X', 'A' and 'XA'. The key 'XA' represents an interaction between X and A in the model. Currently, only polynomials of single variables and of pairwise interactions between variables can be included."
   ]
  },
  {
   "cell_type": "markdown",
   "id": "c52e51f9",
   "metadata": {},
   "source": [
    "We can now create an SCM consisting of these causal mechanisms:"
   ]
  },
  {
   "cell_type": "code",
   "execution_count": 8,
   "id": "14a92247",
   "metadata": {},
   "outputs": [
    {
     "name": "stdout",
     "output_type": "stream",
     "text": [
      "\n",
      "Structural Causal Model\n",
      "=======================\n",
      "\n",
      "A <-  U_A\n",
      "\n",
      "X <-  1.0A - 3.0A^3 + U_X\n",
      "\n",
      "Y <-  - 0.5X + 1.2X^3 + 1.4A + 3.0XA - 1.0(XA)^2 + U_Y\n"
     ]
    }
   ],
   "source": [
    "model = cm.StructuralCausalModel(node_models=[f_A, f_X, f_Y])\n",
    "print(model)"
   ]
  },
  {
   "cell_type": "markdown",
   "id": "acb81e66",
   "metadata": {},
   "source": [
    "### Sampling from the SCM"
   ]
  },
  {
   "cell_type": "markdown",
   "id": "940dad72",
   "metadata": {},
   "source": [
    "We can sample from the SCM as follows:"
   ]
  },
  {
   "cell_type": "code",
   "execution_count": 9,
   "id": "bb3a5de5",
   "metadata": {},
   "outputs": [
    {
     "name": "stdout",
     "output_type": "stream",
     "text": [
      "Drawing from...\n",
      "A\n",
      "X\n",
      "Y\n",
      "done\n"
     ]
    }
   ],
   "source": [
    "samples = model.draw_sample(size=50000, initial_random_state=0, return_dataframe=True)"
   ]
  },
  {
   "cell_type": "markdown",
   "id": "93cdb163",
   "metadata": {},
   "source": [
    "The above will provide 50000 samples from the model in a pandas dataframe."
   ]
  },
  {
   "cell_type": "code",
   "execution_count": 10,
   "id": "a10066ec",
   "metadata": {
    "scrolled": true
   },
   "outputs": [
    {
     "data": {
      "text/html": [
       "<div>\n",
       "<style scoped>\n",
       "    .dataframe tbody tr th:only-of-type {\n",
       "        vertical-align: middle;\n",
       "    }\n",
       "\n",
       "    .dataframe tbody tr th {\n",
       "        vertical-align: top;\n",
       "    }\n",
       "\n",
       "    .dataframe thead th {\n",
       "        text-align: right;\n",
       "    }\n",
       "</style>\n",
       "<table border=\"1\" class=\"dataframe\">\n",
       "  <thead>\n",
       "    <tr style=\"text-align: right;\">\n",
       "      <th></th>\n",
       "      <th>A</th>\n",
       "      <th>X</th>\n",
       "      <th>Y</th>\n",
       "    </tr>\n",
       "  </thead>\n",
       "  <tbody>\n",
       "    <tr>\n",
       "      <th>0</th>\n",
       "      <td>1.764052</td>\n",
       "      <td>-13.080164</td>\n",
       "      <td>-3278.515912</td>\n",
       "    </tr>\n",
       "    <tr>\n",
       "      <th>1</th>\n",
       "      <td>0.400157</td>\n",
       "      <td>-0.403826</td>\n",
       "      <td>0.115948</td>\n",
       "    </tr>\n",
       "    <tr>\n",
       "      <th>2</th>\n",
       "      <td>0.978738</td>\n",
       "      <td>-2.362115</td>\n",
       "      <td>-27.680988</td>\n",
       "    </tr>\n",
       "    <tr>\n",
       "      <th>3</th>\n",
       "      <td>2.240893</td>\n",
       "      <td>-32.590699</td>\n",
       "      <td>-47071.333394</td>\n",
       "    </tr>\n",
       "    <tr>\n",
       "      <th>4</th>\n",
       "      <td>1.867558</td>\n",
       "      <td>-16.807889</td>\n",
       "      <td>-6768.235113</td>\n",
       "    </tr>\n",
       "  </tbody>\n",
       "</table>\n",
       "</div>"
      ],
      "text/plain": [
       "          A          X             Y\n",
       "0  1.764052 -13.080164  -3278.515912\n",
       "1  0.400157  -0.403826      0.115948\n",
       "2  0.978738  -2.362115    -27.680988\n",
       "3  2.240893 -32.590699 -47071.333394\n",
       "4  1.867558 -16.807889  -6768.235113"
      ]
     },
     "execution_count": 10,
     "metadata": {},
     "output_type": "execute_result"
    }
   ],
   "source": [
    "samples.head()"
   ]
  },
  {
   "cell_type": "markdown",
   "id": "ad1193b5",
   "metadata": {},
   "source": [
    "By specifying the value of 'initial_random_state', we can draw repeatable samples from the SCM."
   ]
  },
  {
   "cell_type": "markdown",
   "id": "8d7417c2",
   "metadata": {},
   "source": [
    "## Simulating Randomised Controlled Trials"
   ]
  },
  {
   "cell_type": "markdown",
   "id": "8613cbae",
   "metadata": {},
   "source": [
    "To illustrate how we can use **causalite** to simulate Randomised Controlled Trials (RCTs), we create the following causal model and sample from it:"
   ]
  },
  {
   "cell_type": "code",
   "execution_count": 11,
   "id": "f142768c",
   "metadata": {
    "scrolled": true
   },
   "outputs": [
    {
     "name": "stdout",
     "output_type": "stream",
     "text": [
      "Drawing from...\n",
      "A\n",
      "X\n",
      "Y\n",
      "done\n"
     ]
    }
   ],
   "source": [
    "f_A = nm.NodeAdditiveNoiseModel('A')\n",
    "f_X = nm.NodeBinaryLogisticModel('X', parent_polys={'A': [1., 0., -3.]})\n",
    "f_Y = nm.NodeAdditiveNoiseModel('Y', parent_polys={'X': [-0.5, 0., 1.2], 'A': [1.4], 'XA': [3.]})\n",
    "model = cm.StructuralCausalModel(node_models=[f_A, f_X, f_Y])\n",
    "samples = model.draw_sample(size=50000, initial_random_state=0, return_dataframe=True)"
   ]
  },
  {
   "cell_type": "markdown",
   "id": "1898f424",
   "metadata": {},
   "source": [
    "Here we used NodeBinaryLogisticModel, rather than NodeAdditiveNoiseModel to create the model f_X. We can use this class to create binary-valued nodes that are Bernoulli distributed by providing the variable name and a 'parent_polys' dictionary. The underlying model adds the polynomial sum specified by 'parent_polys' to logistic exogenous noise and dichotomizes the result. For f_X this is:"
   ]
  },
  {
   "cell_type": "code",
   "execution_count": 12,
   "id": "4cf8ed8c",
   "metadata": {},
   "outputs": [
    {
     "name": "stdout",
     "output_type": "stream",
     "text": [
      "X <-  I( 1.0A - 3.0A^3 + U_X > 0.0 )\n"
     ]
    }
   ],
   "source": [
    "print(f_X)"
   ]
  },
  {
   "cell_type": "markdown",
   "id": "93c39a3b",
   "metadata": {},
   "source": [
    "where I is the indicator function and U_X ~ logistic(0, 1). This is the 'latent value' formulation of an equivalent Bernoulli model with parameter p, where p equals the sigmoid of the polynomial sum:"
   ]
  },
  {
   "cell_type": "markdown",
   "id": "48c5f7b2",
   "metadata": {},
   "source": [
    "$X \\leftarrow \\text{Bernoulli}(p = \\text{sigmoid}(A - 3A^3))$"
   ]
  },
  {
   "cell_type": "markdown",
   "id": "fbc40c19-6f7c-4fae-8d91-c0925921d461",
   "metadata": {},
   "source": [
    "The resulting SCM is:"
   ]
  },
  {
   "cell_type": "code",
   "execution_count": 13,
   "id": "18e94a47-2f57-4acd-83bc-9a824a8fa752",
   "metadata": {},
   "outputs": [
    {
     "name": "stdout",
     "output_type": "stream",
     "text": [
      "\n",
      "Structural Causal Model\n",
      "=======================\n",
      "\n",
      "A <-  U_A\n",
      "\n",
      "X <-  I( 1.0A - 3.0A^3 + U_X > 0.0 )\n",
      "\n",
      "Y <-  - 0.5X + 1.2X^3 + 1.4A + 3.0XA + U_Y\n"
     ]
    }
   ],
   "source": [
    "print(model)"
   ]
  },
  {
   "cell_type": "markdown",
   "id": "98b40ff5",
   "metadata": {},
   "source": [
    "We now assign the following meanings to the model variables: A is a subject's age, X indicates whether they have been treated with a specific drug (1=Treated, 0=Untreated), and Y is their outcome. With this interpretation, 'samples' is then data from an *observational* study of drug effect, in which age is a confounding variable. \n",
    "\n",
    "We can generate data from an *experimental*, rather than observational, study of drug effect by simulating an RCT as follows:"
   ]
  },
  {
   "cell_type": "code",
   "execution_count": 14,
   "id": "3f2f0d10",
   "metadata": {
    "scrolled": true
   },
   "outputs": [
    {
     "name": "stdout",
     "output_type": "stream",
     "text": [
      "Drawing from...\n",
      "A\n",
      "X\n",
      "Y\n",
      "done\n"
     ]
    }
   ],
   "source": [
    "rct_X_samples = model.draw_rct_sample(size=50000, initial_random_state=0, return_dataframe=True, treatment_variable='X', intervention_draw_random_variates=stats.bernoulli.rvs, p=0.5)"
   ]
  },
  {
   "cell_type": "markdown",
   "id": "4a651767",
   "metadata": {},
   "source": [
    "The above will randomly assign values in {0,1} to the treatment variable X, and draw samples from the resulting model."
   ]
  },
  {
   "cell_type": "code",
   "execution_count": 15,
   "id": "9e351370-5a76-4150-bee2-2a079bda5d04",
   "metadata": {},
   "outputs": [
    {
     "data": {
      "text/html": [
       "<div>\n",
       "<style scoped>\n",
       "    .dataframe tbody tr th:only-of-type {\n",
       "        vertical-align: middle;\n",
       "    }\n",
       "\n",
       "    .dataframe tbody tr th {\n",
       "        vertical-align: top;\n",
       "    }\n",
       "\n",
       "    .dataframe thead th {\n",
       "        text-align: right;\n",
       "    }\n",
       "</style>\n",
       "<table border=\"1\" class=\"dataframe\">\n",
       "  <thead>\n",
       "    <tr style=\"text-align: right;\">\n",
       "      <th></th>\n",
       "      <th>A</th>\n",
       "      <th>X</th>\n",
       "      <th>Y</th>\n",
       "    </tr>\n",
       "  </thead>\n",
       "  <tbody>\n",
       "    <tr>\n",
       "      <th>0</th>\n",
       "      <td>1.764052</td>\n",
       "      <td>0.0</td>\n",
       "      <td>2.052915</td>\n",
       "    </tr>\n",
       "    <tr>\n",
       "      <th>1</th>\n",
       "      <td>0.400157</td>\n",
       "      <td>1.0</td>\n",
       "      <td>2.404425</td>\n",
       "    </tr>\n",
       "    <tr>\n",
       "      <th>2</th>\n",
       "      <td>0.978738</td>\n",
       "      <td>0.0</td>\n",
       "      <td>-0.765963</td>\n",
       "    </tr>\n",
       "    <tr>\n",
       "      <th>3</th>\n",
       "      <td>2.240893</td>\n",
       "      <td>0.0</td>\n",
       "      <td>4.777521</td>\n",
       "    </tr>\n",
       "    <tr>\n",
       "      <th>4</th>\n",
       "      <td>1.867558</td>\n",
       "      <td>0.0</td>\n",
       "      <td>0.821146</td>\n",
       "    </tr>\n",
       "  </tbody>\n",
       "</table>\n",
       "</div>"
      ],
      "text/plain": [
       "          A    X         Y\n",
       "0  1.764052  0.0  2.052915\n",
       "1  0.400157  1.0  2.404425\n",
       "2  0.978738  0.0 -0.765963\n",
       "3  2.240893  0.0  4.777521\n",
       "4  1.867558  0.0  0.821146"
      ]
     },
     "execution_count": 15,
     "metadata": {},
     "output_type": "execute_result"
    }
   ],
   "source": [
    "rct_X_samples.head()"
   ]
  },
  {
   "cell_type": "markdown",
   "id": "4ca2daba-c541-4bf4-bb37-852168a5cd0f",
   "metadata": {},
   "source": [
    "These samples can then be used to estimate the average causal effect of the drug on the outcome in a straightforward manner. We can also use **causalite** to simulate RCTs using other treatment allocation schemes. This is achieved by specifying different 'intervention_draw_random_variates' and distribution parameters when generating the experimental sample."
   ]
  },
  {
   "cell_type": "markdown",
   "id": "b8fa26c5",
   "metadata": {},
   "source": [
    "## Generating do-operator Samples"
   ]
  },
  {
   "cell_type": "markdown",
   "id": "5c54cbc9",
   "metadata": {},
   "source": [
    "Do-operator samples are generated by intervening on a variable using a constant intervention distribution. We do this as follows:"
   ]
  },
  {
   "cell_type": "code",
   "execution_count": 16,
   "id": "0bb307f4",
   "metadata": {},
   "outputs": [
    {
     "name": "stdout",
     "output_type": "stream",
     "text": [
      "Drawing from...\n",
      "A\n",
      "X\n",
      "Y\n",
      "done\n"
     ]
    }
   ],
   "source": [
    "do_X_1_samples = model.draw_do_operator_sample(size=50000, initial_random_state=0, return_dataframe=True, intervention_variable='X', intervention_value=1.)"
   ]
  },
  {
   "cell_type": "markdown",
   "id": "ce1d7498",
   "metadata": {},
   "source": [
    "This will return a sample from 'model' after setting the value of X to be 1 for the whole population."
   ]
  },
  {
   "cell_type": "code",
   "execution_count": 17,
   "id": "7bff8f74",
   "metadata": {
    "scrolled": true
   },
   "outputs": [
    {
     "data": {
      "text/html": [
       "<div>\n",
       "<style scoped>\n",
       "    .dataframe tbody tr th:only-of-type {\n",
       "        vertical-align: middle;\n",
       "    }\n",
       "\n",
       "    .dataframe tbody tr th {\n",
       "        vertical-align: top;\n",
       "    }\n",
       "\n",
       "    .dataframe thead th {\n",
       "        text-align: right;\n",
       "    }\n",
       "</style>\n",
       "<table border=\"1\" class=\"dataframe\">\n",
       "  <thead>\n",
       "    <tr style=\"text-align: right;\">\n",
       "      <th></th>\n",
       "      <th>A</th>\n",
       "      <th>X</th>\n",
       "      <th>Y</th>\n",
       "    </tr>\n",
       "  </thead>\n",
       "  <tbody>\n",
       "    <tr>\n",
       "      <th>0</th>\n",
       "      <td>1.764052</td>\n",
       "      <td>1.0</td>\n",
       "      <td>8.045072</td>\n",
       "    </tr>\n",
       "    <tr>\n",
       "      <th>1</th>\n",
       "      <td>0.400157</td>\n",
       "      <td>1.0</td>\n",
       "      <td>2.404425</td>\n",
       "    </tr>\n",
       "    <tr>\n",
       "      <th>2</th>\n",
       "      <td>0.978738</td>\n",
       "      <td>1.0</td>\n",
       "      <td>2.870251</td>\n",
       "    </tr>\n",
       "    <tr>\n",
       "      <th>3</th>\n",
       "      <td>2.240893</td>\n",
       "      <td>1.0</td>\n",
       "      <td>12.200201</td>\n",
       "    </tr>\n",
       "    <tr>\n",
       "      <th>4</th>\n",
       "      <td>1.867558</td>\n",
       "      <td>1.0</td>\n",
       "      <td>7.123820</td>\n",
       "    </tr>\n",
       "  </tbody>\n",
       "</table>\n",
       "</div>"
      ],
      "text/plain": [
       "          A    X          Y\n",
       "0  1.764052  1.0   8.045072\n",
       "1  0.400157  1.0   2.404425\n",
       "2  0.978738  1.0   2.870251\n",
       "3  2.240893  1.0  12.200201\n",
       "4  1.867558  1.0   7.123820"
      ]
     },
     "execution_count": 17,
     "metadata": {},
     "output_type": "execute_result"
    }
   ],
   "source": [
    "do_X_1_samples.head()"
   ]
  },
  {
   "cell_type": "markdown",
   "id": "a9111a0d",
   "metadata": {},
   "source": [
    "## Computing Counterfactuals"
   ]
  },
  {
   "cell_type": "markdown",
   "id": "5015cf9e",
   "metadata": {},
   "source": [
    "We can also use 'model' to compute counterfactuals under an intervention, given a set of observed data. For example"
   ]
  },
  {
   "cell_type": "code",
   "execution_count": 18,
   "id": "2d8d3715",
   "metadata": {
    "scrolled": true
   },
   "outputs": [
    {
     "name": "stdout",
     "output_type": "stream",
     "text": [
      "Abducting exogenous data for...\n",
      "A\n",
      "Y\n",
      "Predicting...\n",
      "A\n",
      "Y\n",
      "done\n"
     ]
    }
   ],
   "source": [
    "counterfactuals_X_0 = model.compute_counterfactuals(samples, intervention_variable='X', intervention_values=np.zeros(samples.shape[0]), return_dataframe=True)"
   ]
  },
  {
   "cell_type": "markdown",
   "id": "4b5b3e80",
   "metadata": {},
   "source": [
    "will compute what the data would have been for each of the individuals in 'samples', if none of them had received drug treatment. Currently, only deterministic counterfactuals are supported."
   ]
  },
  {
   "cell_type": "code",
   "execution_count": 19,
   "id": "afcdcc68",
   "metadata": {},
   "outputs": [
    {
     "data": {
      "text/html": [
       "<div>\n",
       "<style scoped>\n",
       "    .dataframe tbody tr th:only-of-type {\n",
       "        vertical-align: middle;\n",
       "    }\n",
       "\n",
       "    .dataframe tbody tr th {\n",
       "        vertical-align: top;\n",
       "    }\n",
       "\n",
       "    .dataframe thead th {\n",
       "        text-align: right;\n",
       "    }\n",
       "</style>\n",
       "<table border=\"1\" class=\"dataframe\">\n",
       "  <thead>\n",
       "    <tr style=\"text-align: right;\">\n",
       "      <th></th>\n",
       "      <th>X</th>\n",
       "      <th>A</th>\n",
       "      <th>Y</th>\n",
       "    </tr>\n",
       "  </thead>\n",
       "  <tbody>\n",
       "    <tr>\n",
       "      <th>0</th>\n",
       "      <td>0.0</td>\n",
       "      <td>1.764052</td>\n",
       "      <td>2.052915</td>\n",
       "    </tr>\n",
       "    <tr>\n",
       "      <th>1</th>\n",
       "      <td>0.0</td>\n",
       "      <td>0.400157</td>\n",
       "      <td>0.503953</td>\n",
       "    </tr>\n",
       "    <tr>\n",
       "      <th>2</th>\n",
       "      <td>0.0</td>\n",
       "      <td>0.978738</td>\n",
       "      <td>-0.765963</td>\n",
       "    </tr>\n",
       "    <tr>\n",
       "      <th>3</th>\n",
       "      <td>0.0</td>\n",
       "      <td>2.240893</td>\n",
       "      <td>4.777521</td>\n",
       "    </tr>\n",
       "    <tr>\n",
       "      <th>4</th>\n",
       "      <td>0.0</td>\n",
       "      <td>1.867558</td>\n",
       "      <td>0.821146</td>\n",
       "    </tr>\n",
       "  </tbody>\n",
       "</table>\n",
       "</div>"
      ],
      "text/plain": [
       "     X         A         Y\n",
       "0  0.0  1.764052  2.052915\n",
       "1  0.0  0.400157  0.503953\n",
       "2  0.0  0.978738 -0.765963\n",
       "3  0.0  2.240893  4.777521\n",
       "4  0.0  1.867558  0.821146"
      ]
     },
     "execution_count": 19,
     "metadata": {},
     "output_type": "execute_result"
    }
   ],
   "source": [
    "counterfactuals_X_0.head()"
   ]
  }
 ],
 "metadata": {
  "kernelspec": {
   "display_name": "Python 3 (ipykernel)",
   "language": "python",
   "name": "python3"
  },
  "language_info": {
   "codemirror_mode": {
    "name": "ipython",
    "version": 3
   },
   "file_extension": ".py",
   "mimetype": "text/x-python",
   "name": "python",
   "nbconvert_exporter": "python",
   "pygments_lexer": "ipython3",
   "version": "3.9.19"
  }
 },
 "nbformat": 4,
 "nbformat_minor": 5
}
